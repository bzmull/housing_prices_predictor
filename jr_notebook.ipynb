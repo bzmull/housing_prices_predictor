{
 "cells": [
  {
   "cell_type": "code",
   "execution_count": 8,
   "metadata": {},
   "outputs": [
    {
     "name": "stdout",
     "output_type": "stream",
     "text": [
      "Collecting pandas\n",
      "\u001b[?25l  Downloading https://files.pythonhosted.org/packages/ab/ba/f97030b7e8ec0a981abdca173de4e727b3a7b4ed5dba492f362ba87d59a2/pandas-1.0.1-cp37-cp37m-macosx_10_9_x86_64.whl (9.8MB)\n",
      "\u001b[K    100% |████████████████████████████████| 9.8MB 2.3MB/s ta 0:00:011\n",
      "\u001b[?25hRequirement already satisfied: python-dateutil>=2.6.1 in /usr/local/lib/python3.7/site-packages (from pandas) (2.8.1)\n",
      "Collecting pytz>=2017.2 (from pandas)\n",
      "\u001b[?25l  Downloading https://files.pythonhosted.org/packages/e7/f9/f0b53f88060247251bf481fa6ea62cd0d25bf1b11a87888e53ce5b7c8ad2/pytz-2019.3-py2.py3-none-any.whl (509kB)\n",
      "\u001b[K    100% |████████████████████████████████| 512kB 4.9MB/s ta 0:00:01\n",
      "\u001b[?25hRequirement already satisfied: numpy>=1.13.3 in /usr/local/lib/python3.7/site-packages (from pandas) (1.16.3)\n",
      "Requirement already satisfied: six>=1.5 in /usr/local/lib/python3.7/site-packages (from python-dateutil>=2.6.1->pandas) (1.14.0)\n",
      "Installing collected packages: pytz, pandas\n",
      "Successfully installed pandas-1.0.1 pytz-2019.3\n",
      "Note: you may need to restart the kernel to use updated packages.\n"
     ]
    }
   ],
   "source": [
    "pip install pandas\n",
    "from sklearn.model_selection import cross_val_score"
   ]
  },
  {
   "cell_type": "code",
   "execution_count": 2,
   "metadata": {},
   "outputs": [
    {
     "name": "stdout",
     "output_type": "stream",
     "text": [
      "(1460, 81)\n"
     ]
    }
   ],
   "source": [
    "import pandas as pd\n",
    "import numpy as np\n",
    "\n",
    "train_df = pd.read_csv('data/train.csv')\n",
    "print(train_df.shape)"
   ]
  },
  {
   "cell_type": "code",
   "execution_count": 2,
   "metadata": {},
   "outputs": [
    {
     "name": "stdout",
     "output_type": "stream",
     "text": [
      "Index(['Id', 'MSSubClass', 'MSZoning', 'LotFrontage', 'LotArea', 'Street',\n",
      "       'Alley', 'LotShape', 'LandContour', 'Utilities', 'LotConfig',\n",
      "       'LandSlope', 'Neighborhood', 'Condition1', 'Condition2', 'BldgType',\n",
      "       'HouseStyle', 'OverallQual', 'OverallCond', 'YearBuilt', 'YearRemodAdd',\n",
      "       'RoofStyle', 'RoofMatl', 'Exterior1st', 'Exterior2nd', 'MasVnrType',\n",
      "       'MasVnrArea', 'ExterQual', 'ExterCond', 'Foundation', 'BsmtQual',\n",
      "       'BsmtCond', 'BsmtExposure', 'BsmtFinType1', 'BsmtFinSF1',\n",
      "       'BsmtFinType2', 'BsmtFinSF2', 'BsmtUnfSF', 'TotalBsmtSF', 'Heating',\n",
      "       'HeatingQC', 'CentralAir', 'Electrical', '1stFlrSF', '2ndFlrSF',\n",
      "       'LowQualFinSF', 'GrLivArea', 'BsmtFullBath', 'BsmtHalfBath', 'FullBath',\n",
      "       'HalfBath', 'BedroomAbvGr', 'KitchenAbvGr', 'KitchenQual',\n",
      "       'TotRmsAbvGrd', 'Functional', 'Fireplaces', 'FireplaceQu', 'GarageType',\n",
      "       'GarageYrBlt', 'GarageFinish', 'GarageCars', 'GarageArea', 'GarageQual',\n",
      "       'GarageCond', 'PavedDrive', 'WoodDeckSF', 'OpenPorchSF',\n",
      "       'EnclosedPorch', '3SsnPorch', 'ScreenPorch', 'PoolArea', 'PoolQC',\n",
      "       'Fence', 'MiscFeature', 'MiscVal', 'MoSold', 'YrSold', 'SaleType',\n",
      "       'SaleCondition', 'SalePrice'],\n",
      "      dtype='object')\n"
     ]
    }
   ],
   "source": [
    "print(train_df.columns)"
   ]
  },
  {
   "cell_type": "code",
   "execution_count": 4,
   "metadata": {},
   "outputs": [
    {
     "name": "stdout",
     "output_type": "stream",
     "text": [
      "81\n"
     ]
    }
   ],
   "source": [
    "data = []\n",
    "for i in train_df.columns:\n",
    "    i = len(train_df[i].unique())\n",
    "    data.append(i)\n",
    "print(len(data))\n",
    "unique_vals_df = pd.DataFrame({'unique vals':data,'column name': train_df.columns})"
   ]
  },
  {
   "cell_type": "code",
   "execution_count": 5,
   "metadata": {},
   "outputs": [
    {
     "name": "stdout",
     "output_type": "stream",
     "text": [
      "    unique vals    column name\n",
      "0          1460             Id\n",
      "1            15     MSSubClass\n",
      "2             5       MSZoning\n",
      "3           111    LotFrontage\n",
      "4          1073        LotArea\n",
      "5             2         Street\n",
      "6             3          Alley\n",
      "7             4       LotShape\n",
      "8             4    LandContour\n",
      "9             2      Utilities\n",
      "10            5      LotConfig\n",
      "11            3      LandSlope\n",
      "12           25   Neighborhood\n",
      "13            9     Condition1\n",
      "14            8     Condition2\n",
      "15            5       BldgType\n",
      "16            8     HouseStyle\n",
      "17           10    OverallQual\n",
      "18            9    OverallCond\n",
      "19          112      YearBuilt\n",
      "20           61   YearRemodAdd\n",
      "21            6      RoofStyle\n",
      "22            8       RoofMatl\n",
      "23           15    Exterior1st\n",
      "24           16    Exterior2nd\n",
      "25            5     MasVnrType\n",
      "26          328     MasVnrArea\n",
      "27            4      ExterQual\n",
      "28            5      ExterCond\n",
      "29            6     Foundation\n",
      "30            5       BsmtQual\n",
      "31            5       BsmtCond\n",
      "32            5   BsmtExposure\n",
      "33            7   BsmtFinType1\n",
      "34          637     BsmtFinSF1\n",
      "35            7   BsmtFinType2\n",
      "36          144     BsmtFinSF2\n",
      "37          780      BsmtUnfSF\n",
      "38          721    TotalBsmtSF\n",
      "39            6        Heating\n",
      "40            5      HeatingQC\n",
      "41            2     CentralAir\n",
      "42            6     Electrical\n",
      "43          753       1stFlrSF\n",
      "44          417       2ndFlrSF\n",
      "45           24   LowQualFinSF\n",
      "46          861      GrLivArea\n",
      "47            4   BsmtFullBath\n",
      "48            3   BsmtHalfBath\n",
      "49            4       FullBath\n",
      "50            3       HalfBath\n",
      "51            8   BedroomAbvGr\n",
      "52            4   KitchenAbvGr\n",
      "53            4    KitchenQual\n",
      "54           12   TotRmsAbvGrd\n",
      "55            7     Functional\n",
      "56            4     Fireplaces\n",
      "57            6    FireplaceQu\n",
      "58            7     GarageType\n",
      "59           98    GarageYrBlt\n",
      "60            4   GarageFinish\n",
      "61            5     GarageCars\n",
      "62          441     GarageArea\n",
      "63            6     GarageQual\n",
      "64            6     GarageCond\n",
      "65            3     PavedDrive\n",
      "66          274     WoodDeckSF\n",
      "67          202    OpenPorchSF\n",
      "68          120  EnclosedPorch\n",
      "69           20      3SsnPorch\n",
      "70           76    ScreenPorch\n",
      "71            8       PoolArea\n",
      "72            4         PoolQC\n",
      "73            5          Fence\n",
      "74            5    MiscFeature\n",
      "75           21        MiscVal\n",
      "76           12         MoSold\n",
      "77            5         YrSold\n",
      "78            9       SaleType\n",
      "79            6  SaleCondition\n",
      "80          663      SalePrice\n"
     ]
    }
   ],
   "source": [
    "with pd.option_context('display.max_rows', None, 'display.max_columns', None):  # more options can be specified also\n",
    "    print(unique_vals_df)"
   ]
  },
  {
   "cell_type": "code",
   "execution_count": 6,
   "metadata": {},
   "outputs": [
    {
     "data": {
      "text/plain": [
       "str"
      ]
     },
     "execution_count": 6,
     "metadata": {},
     "output_type": "execute_result"
    }
   ],
   "source": [
    "type(train_df['Electrical'].iloc[0])"
   ]
  },
  {
   "cell_type": "code",
   "execution_count": 7,
   "metadata": {},
   "outputs": [],
   "source": [
    "data = []\n",
    "for i in train_df.columns:\n",
    "    i = type(train_df[i].iloc[0])\n",
    "    data.append(i)\n",
    "val_type_df = pd.DataFrame({'val type':data,'column name': train_df.columns})"
   ]
  },
  {
   "cell_type": "code",
   "execution_count": 8,
   "metadata": {},
   "outputs": [
    {
     "name": "stdout",
     "output_type": "stream",
     "text": [
      "                   val type    column name\n",
      "0     <class 'numpy.int64'>             Id\n",
      "1     <class 'numpy.int64'>     MSSubClass\n",
      "2             <class 'str'>       MSZoning\n",
      "3   <class 'numpy.float64'>    LotFrontage\n",
      "4     <class 'numpy.int64'>        LotArea\n",
      "5             <class 'str'>         Street\n",
      "6           <class 'float'>          Alley\n",
      "7             <class 'str'>       LotShape\n",
      "8             <class 'str'>    LandContour\n",
      "9             <class 'str'>      Utilities\n",
      "10            <class 'str'>      LotConfig\n",
      "11            <class 'str'>      LandSlope\n",
      "12            <class 'str'>   Neighborhood\n",
      "13            <class 'str'>     Condition1\n",
      "14            <class 'str'>     Condition2\n",
      "15            <class 'str'>       BldgType\n",
      "16            <class 'str'>     HouseStyle\n",
      "17    <class 'numpy.int64'>    OverallQual\n",
      "18    <class 'numpy.int64'>    OverallCond\n",
      "19    <class 'numpy.int64'>      YearBuilt\n",
      "20    <class 'numpy.int64'>   YearRemodAdd\n",
      "21            <class 'str'>      RoofStyle\n",
      "22            <class 'str'>       RoofMatl\n",
      "23            <class 'str'>    Exterior1st\n",
      "24            <class 'str'>    Exterior2nd\n",
      "25            <class 'str'>     MasVnrType\n",
      "26  <class 'numpy.float64'>     MasVnrArea\n",
      "27            <class 'str'>      ExterQual\n",
      "28            <class 'str'>      ExterCond\n",
      "29            <class 'str'>     Foundation\n",
      "30            <class 'str'>       BsmtQual\n",
      "31            <class 'str'>       BsmtCond\n",
      "32            <class 'str'>   BsmtExposure\n",
      "33            <class 'str'>   BsmtFinType1\n",
      "34    <class 'numpy.int64'>     BsmtFinSF1\n",
      "35            <class 'str'>   BsmtFinType2\n",
      "36    <class 'numpy.int64'>     BsmtFinSF2\n",
      "37    <class 'numpy.int64'>      BsmtUnfSF\n",
      "38    <class 'numpy.int64'>    TotalBsmtSF\n",
      "39            <class 'str'>        Heating\n",
      "40            <class 'str'>      HeatingQC\n",
      "41            <class 'str'>     CentralAir\n",
      "42            <class 'str'>     Electrical\n",
      "43    <class 'numpy.int64'>       1stFlrSF\n",
      "44    <class 'numpy.int64'>       2ndFlrSF\n",
      "45    <class 'numpy.int64'>   LowQualFinSF\n",
      "46    <class 'numpy.int64'>      GrLivArea\n",
      "47    <class 'numpy.int64'>   BsmtFullBath\n",
      "48    <class 'numpy.int64'>   BsmtHalfBath\n",
      "49    <class 'numpy.int64'>       FullBath\n",
      "50    <class 'numpy.int64'>       HalfBath\n",
      "51    <class 'numpy.int64'>   BedroomAbvGr\n",
      "52    <class 'numpy.int64'>   KitchenAbvGr\n",
      "53            <class 'str'>    KitchenQual\n",
      "54    <class 'numpy.int64'>   TotRmsAbvGrd\n",
      "55            <class 'str'>     Functional\n",
      "56    <class 'numpy.int64'>     Fireplaces\n",
      "57          <class 'float'>    FireplaceQu\n",
      "58            <class 'str'>     GarageType\n",
      "59  <class 'numpy.float64'>    GarageYrBlt\n",
      "60            <class 'str'>   GarageFinish\n",
      "61    <class 'numpy.int64'>     GarageCars\n",
      "62    <class 'numpy.int64'>     GarageArea\n",
      "63            <class 'str'>     GarageQual\n",
      "64            <class 'str'>     GarageCond\n",
      "65            <class 'str'>     PavedDrive\n",
      "66    <class 'numpy.int64'>     WoodDeckSF\n",
      "67    <class 'numpy.int64'>    OpenPorchSF\n",
      "68    <class 'numpy.int64'>  EnclosedPorch\n",
      "69    <class 'numpy.int64'>      3SsnPorch\n",
      "70    <class 'numpy.int64'>    ScreenPorch\n",
      "71    <class 'numpy.int64'>       PoolArea\n",
      "72          <class 'float'>         PoolQC\n",
      "73          <class 'float'>          Fence\n",
      "74          <class 'float'>    MiscFeature\n",
      "75    <class 'numpy.int64'>        MiscVal\n",
      "76    <class 'numpy.int64'>         MoSold\n",
      "77    <class 'numpy.int64'>         YrSold\n",
      "78            <class 'str'>       SaleType\n",
      "79            <class 'str'>  SaleCondition\n",
      "80    <class 'numpy.int64'>      SalePrice\n"
     ]
    }
   ],
   "source": [
    "with pd.option_context('display.max_rows', None, 'display.max_columns', None):  # more options can be specified also\n",
    "    print(val_type_df)"
   ]
  },
  {
   "cell_type": "code",
   "execution_count": 29,
   "metadata": {},
   "outputs": [
    {
     "data": {
      "text/plain": [
       "Id               False\n",
       "MSSubClass       False\n",
       "MSZoning         False\n",
       "LotFrontage      False\n",
       "LotArea          False\n",
       "Street           False\n",
       "Alley            False\n",
       "LotShape         False\n",
       "LandContour      False\n",
       "Utilities        False\n",
       "LotConfig        False\n",
       "LandSlope        False\n",
       "Neighborhood     False\n",
       "Condition1       False\n",
       "Condition2       False\n",
       "BldgType         False\n",
       "HouseStyle       False\n",
       "OverallQual      False\n",
       "OverallCond      False\n",
       "YearBuilt        False\n",
       "YearRemodAdd     False\n",
       "RoofStyle        False\n",
       "RoofMatl         False\n",
       "Exterior1st      False\n",
       "Exterior2nd      False\n",
       "MasVnrType       False\n",
       "MasVnrArea       False\n",
       "ExterQual        False\n",
       "ExterCond        False\n",
       "Foundation       False\n",
       "                 ...  \n",
       "BedroomAbvGr     False\n",
       "KitchenAbvGr     False\n",
       "KitchenQual      False\n",
       "TotRmsAbvGrd     False\n",
       "Functional       False\n",
       "Fireplaces       False\n",
       "FireplaceQu      False\n",
       "GarageType       False\n",
       "GarageYrBlt      False\n",
       "GarageFinish     False\n",
       "GarageCars       False\n",
       "GarageArea       False\n",
       "GarageQual       False\n",
       "GarageCond       False\n",
       "PavedDrive       False\n",
       "WoodDeckSF       False\n",
       "OpenPorchSF      False\n",
       "EnclosedPorch    False\n",
       "3SsnPorch        False\n",
       "ScreenPorch      False\n",
       "PoolArea         False\n",
       "PoolQC           False\n",
       "Fence            False\n",
       "MiscFeature      False\n",
       "MiscVal          False\n",
       "MoSold           False\n",
       "YrSold           False\n",
       "SaleType         False\n",
       "SaleCondition    False\n",
       "SalePrice        False\n",
       "Length: 81, dtype: bool"
      ]
     },
     "execution_count": 29,
     "metadata": {},
     "output_type": "execute_result"
    }
   ],
   "source": [
    "train_df.apply(isinstance, args=(str,))"
   ]
  },
  {
   "cell_type": "code",
   "execution_count": 36,
   "metadata": {},
   "outputs": [],
   "source": [
    "train_nums_df = train_df.select_dtypes(include=np.number)"
   ]
  },
  {
   "cell_type": "code",
   "execution_count": 38,
   "metadata": {},
   "outputs": [],
   "source": [
    "train_string_df = train_df.select_dtypes(exclude=np.number)"
   ]
  },
  {
   "cell_type": "code",
   "execution_count": 48,
   "metadata": {},
   "outputs": [
    {
     "name": "stdout",
     "output_type": "stream",
     "text": [
      "{'a': 0, 'c': 2, 'b': 1, 'd': 3}\n"
     ]
    }
   ],
   "source": [
    "test = ['a','b','c','d']\n",
    "i = 0\n",
    "test2 = {x:test.index(x) for x in test}\n",
    "print(test2)"
   ]
  },
  {
   "cell_type": "code",
   "execution_count": 64,
   "metadata": {},
   "outputs": [
    {
     "name": "stdout",
     "output_type": "stream",
     "text": [
      "        one  two  three\n",
      "mouse   NaN  2.0    3.0\n",
      "rabbit  4.0  5.0    6.0\n",
      "fox     NaN  4.0    9.0\n"
     ]
    }
   ],
   "source": [
    "df = pd.DataFrame(np.array(([float('NaN'), 2, 3], [4, 5, 6],[float('NaN'),4,9])),index=['mouse', 'rabbit','fox'],columns=['one', 'two', 'three'])\n",
    "print(df)"
   ]
  },
  {
   "cell_type": "code",
   "execution_count": 65,
   "metadata": {},
   "outputs": [
    {
     "name": "stdout",
     "output_type": "stream",
     "text": [
      "<class 'pandas.core.series.Series'>\n"
     ]
    },
    {
     "data": {
      "text/plain": [
       "mouse     NaN\n",
       "rabbit    4.0\n",
       "fox       NaN\n",
       "Name: one, dtype: float64"
      ]
     },
     "execution_count": 65,
     "metadata": {},
     "output_type": "execute_result"
    }
   ],
   "source": [
    "print(type(df['one']))\n",
    "df['one']"
   ]
  },
  {
   "cell_type": "code",
   "execution_count": 66,
   "metadata": {},
   "outputs": [
    {
     "name": "stdout",
     "output_type": "stream",
     "text": [
      "       one  two  three\n",
      "mouse   NA  2.0    3.0\n",
      "rabbit   4  5.0    6.0\n",
      "fox     NA  4.0    9.0\n"
     ]
    }
   ],
   "source": [
    "df['one'].fillna('NA',inplace=True)\n",
    "print(df)"
   ]
  },
  {
   "cell_type": "code",
   "execution_count": 58,
   "metadata": {},
   "outputs": [
    {
     "name": "stdout",
     "output_type": "stream",
     "text": [
      "0 a\n",
      "1 b\n",
      "2 c\n"
     ]
    }
   ],
   "source": [
    "test = ['a','b','c']\n",
    "for i,j in enumerate(test):\n",
    "    print(i,j)"
   ]
  },
  {
   "cell_type": "code",
   "execution_count": 4,
   "metadata": {},
   "outputs": [],
   "source": [
    "def cat_var_to_num(df):\n",
    "    '''\n",
    "    Function to convert columns containing categorical data to numerical data in a dataframe\n",
    "    input: dataframe\n",
    "    output: dataframe\n",
    "    '''\n",
    "    new_df = df.copy()\n",
    "    #selects columns which don't have numerical data\n",
    "    string_df = new_df.select_dtypes(exclude=np.number)\n",
    "    #iterating through each column in df containing categorical data\n",
    "    for col in string_df.columns:\n",
    "        # replace NaN with string \"NA\"\n",
    "        new_df[col].fillna('NA',inplace = True)\n",
    "        # identify unique categories used in specific column\n",
    "        unique_vals = new_df[col].unique()\n",
    "        for idx,unique_val in enumerate(unique_vals):\n",
    "            # replace categorical values in column with numerical values \n",
    "            new_df[col].loc[new_df[col]==unique_val] = idx\n",
    "    return new_df"
   ]
  },
  {
   "cell_type": "code",
   "execution_count": 7,
   "metadata": {},
   "outputs": [
    {
     "name": "stderr",
     "output_type": "stream",
     "text": [
      "/usr/local/lib/python3.7/site-packages/pandas/core/indexing.py:670: SettingWithCopyWarning: \n",
      "A value is trying to be set on a copy of a slice from a DataFrame\n",
      "\n",
      "See the caveats in the documentation: https://pandas.pydata.org/pandas-docs/stable/user_guide/indexing.html#returning-a-view-versus-a-copy\n",
      "  self._setitem_with_indexer(indexer, value)\n"
     ]
    }
   ],
   "source": [
    "train_df_with_nums = cat_var_to_num(train_df)"
   ]
  },
  {
   "cell_type": "code",
   "execution_count": 17,
   "metadata": {},
   "outputs": [],
   "source": [
    "from sklearn import preprocessing\n",
    "from sklearn import linear_model\n",
    "from sklearn.model_selection import cross_val_score\n",
    "from sklearn.pipeline import make_pipeline"
   ]
  },
  {
   "cell_type": "code",
   "execution_count": 22,
   "metadata": {},
   "outputs": [],
   "source": [
    "X_normalized = preprocessing.normalize(train_df_with_nums.drop(columns=\"SalePrice\").fillna(0), norm='l2')\n",
    "y = train_df_with_nums[\"SalePrice\"].fillna(0)\n",
    "y_normalized = (y-y.min())/(y.max()-y.min())\n",
    "model = make_pipeline(preprocessing.StandardScaler(),linear_model.LinearRegression())\n",
    "scores = cross_val_score(model, X_normalized, y, cv=5)"
   ]
  },
  {
   "cell_type": "code",
   "execution_count": 23,
   "metadata": {},
   "outputs": [
    {
     "data": {
      "text/plain": [
       "array([ 7.39840242e-01,  7.78475880e-01,  6.74550136e-01, -1.31625179e+11,\n",
       "        6.78447738e-01])"
      ]
     },
     "execution_count": 23,
     "metadata": {},
     "output_type": "execute_result"
    }
   ],
   "source": [
    "scores"
   ]
  },
  {
   "cell_type": "code",
   "execution_count": null,
   "metadata": {},
   "outputs": [],
   "source": []
  }
 ],
 "metadata": {
  "kernelspec": {
   "display_name": "Python 3",
   "language": "python",
   "name": "python3"
  },
  "language_info": {
   "codemirror_mode": {
    "name": "ipython",
    "version": 3
   },
   "file_extension": ".py",
   "mimetype": "text/x-python",
   "name": "python",
   "nbconvert_exporter": "python",
   "pygments_lexer": "ipython3",
   "version": "3.7.3"
  }
 },
 "nbformat": 4,
 "nbformat_minor": 2
}
